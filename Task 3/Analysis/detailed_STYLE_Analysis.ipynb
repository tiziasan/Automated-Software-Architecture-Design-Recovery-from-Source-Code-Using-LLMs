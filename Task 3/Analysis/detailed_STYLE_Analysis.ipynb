{
 "cells": [
  {
   "cell_type": "code",
   "execution_count": 6,
   "metadata": {
    "colab": {
     "base_uri": "https://localhost:8080/",
     "height": 715
    },
    "executionInfo": {
     "elapsed": 948,
     "status": "ok",
     "timestamp": 1731509058779,
     "user": {
      "displayName": "Marco De Luca",
      "userId": "17939192243482533368"
     },
     "user_tz": -60
    },
    "id": "HI0mKxJZtJ9F",
    "outputId": "abba58cc-f739-4349-fb6d-11b002f89c40"
   },
   "outputs": [
    {
     "data": {
      "image/png": "[encoded data removed]",
      "text/plain": [
       "<Figure size 720x576 with 1 Axes>"
      ]
     },
     "metadata": {
      "needs_background": "light"
     },
     "output_type": "display_data"
    },
    {
     "data": {
      "text/plain": [
       "'detailed_box_plot_style.png'"
      ]
     },
     "execution_count": 6,
     "metadata": {},
     "output_type": "execute_result"
    }
   ],
   "source": [
    "# Importing necessary libraries\n",
    "import pandas as pd\n",
    "import matplotlib.pyplot as plt\n",
    "import seaborn as sns\n",
    "\n",
    "# Load the new Excel file\n",
    "file_path = 'detail_STYLE_Analysis.xlsx'\n",
    "excel_data = pd.ExcelFile(file_path)\n",
    "\n",
    "# Load each sheet (ChatGPT, Gemini, Claude, Mistral) and rename columns for consistency\n",
    "chatgpt_df = excel_data.parse('ChatGPT', header=1)\n",
    "gemini_df = excel_data.parse('Gemini', header=1)\n",
    "claude_df = excel_data.parse('Claude', header=1)\n",
    "mistral_df = excel_data.parse('Mistral', header=1)\n",
    "\n",
    "# Rename columns and add a 'Model' identifier for each DataFrame\n",
    "chatgpt_df.columns = ['Code', 'Missing', 'Hallucination', 'Mistake']\n",
    "gemini_df.columns = ['Code', 'Missing', 'Hallucination', 'Mistake']\n",
    "claude_df.columns = ['Code', 'Missing', 'Hallucination', 'Mistake']\n",
    "mistral_df.columns = ['Code', 'Missing', 'Hallucination', 'Mistake']\n",
    "\n",
    "chatgpt_df['Model'] = 'ChatGPT'\n",
    "gemini_df['Model'] = 'Gemini'\n",
    "claude_df['Model'] = 'Claude'\n",
    "mistral_df['Model'] = 'Mistral'\n",
    "\n",
    "# Combine all data into one DataFrame\n",
    "combined_df = pd.concat([chatgpt_df, gemini_df, claude_df, mistral_df])\n",
    "\n",
    "# Melt the data for easier plotting with seaborn\n",
    "melted_df = combined_df.melt(id_vars=['Model'], value_vars=['Missing', 'Hallucination', 'Mistake'], var_name='Error Type', value_name='Values')\n",
    "\n",
    "# Define a custom color palette\n",
    "custom_palette = {\n",
    "    'ChatGPT': '#4E79A7',\n",
    "    'Gemini': '#F28E2B',\n",
    "    'Claude': '#E15759',\n",
    "    'Mistral': '#76B7B2'\n",
    "}\n",
    "\n",
    "# Plot a single box plot for the combined data\n",
    "plt.figure(figsize=(10, 8))\n",
    "sns.boxplot(data=melted_df, x='Error Type', y='Values', hue='Model', palette=custom_palette, width=0.5, dodge='True')\n",
    "#plt.title('Box Plot for Error Types (Missing, Hallucination, Mistake) across Models')\n",
    "plt.ylabel('Values')\n",
    "plt.xlabel('Error Types')\n",
    "plt.legend(title='Model')\n",
    "\n",
    "# Save the plot as a PNG\n",
    "output_path = 'detailed_box_plot_style.png'\n",
    "plt.savefig(output_path, format='png')\n",
    "plt.show()\n",
    "\n",
    "output_path  # The path to the saved image\n"
   ]
  },
  {
   "cell_type": "code",
   "execution_count": null,
   "metadata": {},
   "outputs": [],
   "source": []
  }
 ],
 "metadata": {
  "colab": {
   "authorship_tag": "ABX9TyO2Buvl0wmOvPU7ITkp2xAi",
   "provenance": []
  },
  "kernelspec": {
   "display_name": "Python 3 (ipykernel)",
   "language": "python",
   "name": "python3"
  },
  "language_info": {
   "codemirror_mode": {
    "name": "ipython",
    "version": 3
   },
   "file_extension": ".py",
   "mimetype": "text/x-python",
   "name": "python",
   "nbconvert_exporter": "python",
   "pygments_lexer": "ipython3",
   "version": "3.9.7"
  }
 },
 "nbformat": 4,
 "nbformat_minor": 1
}
